{
 "cells": [
  {
   "cell_type": "markdown",
   "metadata": {},
   "source": [
    "## Feature Engineering\n",
    "#### Import package"
   ]
  },
  {
   "cell_type": "code",
   "execution_count": 1,
   "metadata": {
    "collapsed": true
   },
   "outputs": [],
   "source": [
    "import numpy as np\n",
    "import matplotlib.pyplot as plt\n",
    "import os\n",
    "import pandas as pd\n",
    "import seaborn as sns\n",
    "\n",
    "from sklearn.preprocessing import MinMaxScaler\n",
    "\n",
    "%matplotlib inline"
   ]
  },
  {
   "cell_type": "markdown",
   "metadata": {},
   "source": [
    "#### Read dataset"
   ]
  },
  {
   "cell_type": "code",
   "execution_count": 2,
   "metadata": {
    "collapsed": false
   },
   "outputs": [],
   "source": [
    "dataset_folder = os.getcwd() + '/../dataset/'\n",
    "train = pd.read_csv(dataset_folder + 'train.csv')\n",
    "test = pd.read_csv(dataset_folder + 'test.csv')\n",
    "dataset = pd.concat([train, test], ignore_index=True)\n",
    "dataset = dataset[train.columns]"
   ]
  },
  {
   "cell_type": "code",
   "execution_count": 3,
   "metadata": {
    "collapsed": false
   },
   "outputs": [
    {
     "data": {
      "text/plain": [
       "((3000, 23), (4398, 22), (7398, 23))"
      ]
     },
     "execution_count": 3,
     "metadata": {},
     "output_type": "execute_result"
    }
   ],
   "source": [
    "train.shape, test.shape, dataset.shape"
   ]
  },
  {
   "cell_type": "markdown",
   "metadata": {},
   "source": [
    "#### Fill 'revenue', 'budget' and 'runtime' by external data source\n",
    "The data is taken from the kernel uploaded by <b>Enric Rovira</b>"
   ]
  },
  {
   "cell_type": "code",
   "execution_count": 4,
   "metadata": {
    "collapsed": true
   },
   "outputs": [],
   "source": [
    "dataset.loc[dataset['id'] == 16, 'revenue'] = 192864\n",
    "dataset.loc[dataset['id'] == 313, 'revenue'] = 12000000       \n",
    "dataset.loc[dataset['id'] == 451, 'revenue'] = 12000000\n",
    "dataset.loc[dataset['id'] == 1865, 'revenue'] = 25000000 \n",
    "dataset.loc[dataset['id'] == 2491, 'revenue'] = 6800000"
   ]
  },
  {
   "cell_type": "code",
   "execution_count": 5,
   "metadata": {
    "collapsed": true
   },
   "outputs": [],
   "source": [
    "dataset.loc[dataset['id'] == 90, 'budget'] = 30000000                \n",
    "dataset.loc[dataset['id'] == 118, 'budget'] = 60000000  \n",
    "dataset.loc[dataset['id'] == 149, 'budget'] = 18000000  \n",
    "dataset.loc[dataset['id'] == 464, 'budget'] = 20000000       \n",
    "dataset.loc[dataset['id'] == 470, 'budget'] = 13000000      \n",
    "dataset.loc[dataset['id'] == 513, 'budget'] = 930000          \n",
    "dataset.loc[dataset['id'] == 797, 'budget'] = 8000000       \n",
    "dataset.loc[dataset['id'] == 819, 'budget'] = 90000000       \n",
    "dataset.loc[dataset['id'] == 850, 'budget'] = 90000000  \n",
    "dataset.loc[dataset['id'] == 1112, 'budget'] = 7500000  \n",
    "dataset.loc[dataset['id'] == 1131, 'budget'] = 4300000      \n",
    "dataset.loc[dataset['id'] == 1359, 'budget'] = 10000000      \n",
    "dataset.loc[dataset['id'] == 1542, 'budget'] = 1500000          \n",
    "dataset.loc[dataset['id'] == 1542, 'budget'] = 15800000      \n",
    "dataset.loc[dataset['id'] == 1571, 'budget'] = 4000000        \n",
    "dataset.loc[dataset['id'] == 1714, 'budget'] = 46000000       \n",
    "dataset.loc[dataset['id'] == 1721, 'budget'] = 17500000            \n",
    "dataset.loc[dataset['id'] == 2268, 'budget'] = 17500000      \n",
    "dataset.loc[dataset['id'] == 2602, 'budget'] = 31000000\n",
    "dataset.loc[dataset['id'] == 2612, 'budget'] = 15000000\n",
    "dataset.loc[dataset['id'] == 2696, 'budget'] = 10000000\n",
    "dataset.loc[dataset['id'] == 2801, 'budget'] = 10000000\n",
    "dataset.loc[dataset['id'] == 3889, 'budget'] = 15000000       \n",
    "dataset.loc[dataset['id'] == 6733, 'budget'] = 5000000     \n",
    "dataset.loc[dataset['id'] == 3197, 'budget'] = 8000000     \n",
    "dataset.loc[dataset['id'] == 6683, 'budget'] = 50000000     \n",
    "dataset.loc[dataset['id'] == 5704, 'budget'] = 4300000     \n",
    "dataset.loc[dataset['id'] == 6109, 'budget'] = 281756      \n",
    "dataset.loc[dataset['id'] == 7242, 'budget'] = 10000000     \n",
    "dataset.loc[dataset['id'] == 7021, 'budget'] = 17540562\n",
    "dataset.loc[dataset['id'] == 5591, 'budget'] = 4000000      \n",
    "dataset.loc[dataset['id'] == 4282, 'budget'] = 20000000"
   ]
  },
  {
   "cell_type": "code",
   "execution_count": 6,
   "metadata": {
    "collapsed": true
   },
   "outputs": [],
   "source": [
    "dataset.loc[dataset['id'] == 391, 'runtime'] = 86 \n",
    "dataset.loc[dataset['id'] == 592, 'runtime'] = 90 \n",
    "dataset.loc[dataset['id'] == 925, 'runtime'] = 95 \n",
    "dataset.loc[dataset['id'] == 978, 'runtime'] = 93 \n",
    "dataset.loc[dataset['id'] == 1256, 'runtime'] = 92 \n",
    "dataset.loc[dataset['id'] == 1542, 'runtime'] = 93\n",
    "dataset.loc[dataset['id'] == 1875, 'runtime'] = 86 \n",
    "dataset.loc[dataset['id'] == 2151, 'runtime'] = 108\n",
    "dataset.loc[dataset['id'] == 2499, 'runtime'] = 108 \n",
    "dataset.loc[dataset['id'] == 2646, 'runtime'] = 98\n",
    "dataset.loc[dataset['id'] == 2786, 'runtime'] = 111\n",
    "dataset.loc[dataset['id'] == 2866, 'runtime'] = 96\n",
    "dataset.loc[dataset['id'] == 4074, 'runtime'] = 103 \n",
    "dataset.loc[dataset['id'] == 4222, 'runtime'] = 93\n",
    "dataset.loc[dataset['id'] == 4431, 'runtime'] = 100 \n",
    "dataset.loc[dataset['id'] == 5520, 'runtime'] = 86 \n",
    "dataset.loc[dataset['id'] == 5845, 'runtime'] = 83 \n",
    "dataset.loc[dataset['id'] == 5849, 'runtime'] = 140\n",
    "dataset.loc[dataset['id'] == 6210, 'runtime'] = 104\n",
    "dataset.loc[dataset['id'] == 6804, 'runtime'] = 145 \n",
    "dataset.loc[dataset['id'] == 7321, 'runtime'] = 87"
   ]
  },
  {
   "cell_type": "markdown",
   "metadata": {},
   "source": [
    "#### Feature 'release_date'"
   ]
  },
  {
   "cell_type": "code",
   "execution_count": 7,
   "metadata": {
    "collapsed": false
   },
   "outputs": [],
   "source": [
    "dataset.loc[dataset.release_date.isnull(), 'release_date'] = '05/01/2000'\n",
    "\n",
    "dataset['release_year'] = dataset.release_date.str.extract('\\S+/\\S+/(\\S+)', expand=False).astype(np.int16)\n",
    "dataset['release_month'] = dataset.release_date.str.extract('(\\S+)/\\S+/\\S+', expand=False).astype(np.int16)\n",
    "dataset['release_day'] = dataset.release_date.str.extract('\\S+/(\\S+)/\\S+', expand=False).astype(np.int16)\n",
    "\n",
    "dataset.loc[(21 <= dataset.release_year) & (dataset.release_year <= 99), 'release_year'] += 1900\n",
    "dataset.loc[dataset.release_year < 21, 'release_year'] += 2000\n",
    "\n",
    "dataset['release_date'] = pd.to_datetime(dataset.release_day.astype(str) + '-' + \n",
    "                                         dataset.release_month.astype(str) + '-' + \n",
    "                                         dataset.release_year.astype(str))\n",
    "\n",
    "dataset['release_weekday'] = dataset.release_date.dt.weekday + 1\n",
    "dataset['release_quarter'] = dataset.release_date.dt.quarter"
   ]
  },
  {
   "cell_type": "code",
   "execution_count": 8,
   "metadata": {
    "collapsed": true
   },
   "outputs": [],
   "source": [
    "dataset['release_weekday_sine'] = np.sin(2 * np.pi * dataset.release_weekday / 7)\n",
    "dataset['release_weekday_cosine'] = np.cos(2 * np.pi * dataset.release_weekday / 7)\n",
    "dataset['release_day_sine'] = np.sin(2 * np.pi * dataset.release_day / 31)\n",
    "dataset['release_day_cosine'] = np.cos(2 * np.pi * dataset.release_day / 31)\n",
    "dataset['release_month_sine'] = np.sin(2 * np.pi * dataset.release_month / 12)\n",
    "dataset['release_month_cosine'] = np.cos(2 * np.pi * dataset.release_month / 12)\n",
    "dataset['release_quarter_sine'] = np.sin(2 * np.pi * dataset.release_quarter / 4)\n",
    "dataset['release_quarter_cosine'] = np.cos(2 * np.pi * dataset.release_quarter / 4)"
   ]
  },
  {
   "cell_type": "markdown",
   "metadata": {},
   "source": [
    "#### Feature 'original_language'"
   ]
  },
  {
   "cell_type": "code",
   "execution_count": 9,
   "metadata": {
    "collapsed": false
   },
   "outputs": [],
   "source": [
    "def merge_small_category(x, group_name, threshold, value_counts):\n",
    "    if value_counts[x] < threshold:\n",
    "        return group_name\n",
    "    else:\n",
    "        return x\n",
    "\n",
    "language_count = dataset.original_language.value_counts()\n",
    "dataset['original_language'] = dataset.original_language.apply(merge_small_category, \n",
    "                                                               args=('original_language_others', 10, language_count))\n",
    "dataset = pd.concat([dataset, dataset.original_language.str.get_dummies()], axis=1)"
   ]
  },
  {
   "cell_type": "markdown",
   "metadata": {},
   "source": [
    "#### Feature 'genres', 'production_companies', 'production_countries' and 'spoken_languages'"
   ]
  },
  {
   "cell_type": "code",
   "execution_count": 10,
   "metadata": {
    "collapsed": false
   },
   "outputs": [],
   "source": [
    "threshold = 10\n",
    "for feature in ['genres', 'production_companies', 'production_countries', 'spoken_languages']:\n",
    "    dataset.loc[dataset[feature].isnull(), feature] = '{}'\n",
    "    dataset[feature] = dataset[feature].apply(lambda x: sorted([d['name'] for d in eval(x)])).apply(lambda x: ','.join(map(str, x)))\n",
    "    tmp = dataset[feature].str.get_dummies(sep=',')\n",
    "    tmp = tmp.loc[:, tmp.sum() > threshold]\n",
    "    dataset = pd.concat([dataset, tmp], axis=1)"
   ]
  },
  {
   "cell_type": "markdown",
   "metadata": {},
   "source": [
    "#### Normalize numeric features"
   ]
  },
  {
   "cell_type": "code",
   "execution_count": 11,
   "metadata": {
    "collapsed": false
   },
   "outputs": [],
   "source": [
    "scaler = MinMaxScaler()\n",
    "for feature in ['runtime', 'budget', 'popularity', 'release_year']:\n",
    "    dataset.loc[dataset[feature].isnull(), feature] = np.nanmedian(dataset[feature])\n",
    "    dataset[feature] = scaler.fit_transform(dataset[feature].values.reshape(-1, 1))"
   ]
  },
  {
   "cell_type": "markdown",
   "metadata": {},
   "source": [
    "#### Generate features"
   ]
  },
  {
   "cell_type": "code",
   "execution_count": 12,
   "metadata": {
    "collapsed": false
   },
   "outputs": [],
   "source": [
    "dataset['has_collection'] = 1\n",
    "dataset.loc[dataset.belongs_to_collection.isnull(), 'has_collection'] = 0\n",
    "dataset['has_homepage'] = 1\n",
    "dataset.loc[dataset.homepage.isnull(), 'has_homepage'] = 0\n",
    "dataset['has_tagline'] = 1\n",
    "dataset.loc[dataset.tagline.isnull(), 'has_tagline'] = 0"
   ]
  },
  {
   "cell_type": "markdown",
   "metadata": {},
   "source": [
    "#### Drop features not used"
   ]
  },
  {
   "cell_type": "code",
   "execution_count": 13,
   "metadata": {
    "collapsed": true
   },
   "outputs": [],
   "source": [
    "dataset = dataset.drop(['id', 'belongs_to_collection', 'genres', 'homepage', 'imdb_id', 'original_language',\n",
    "                        'original_title', 'overview', 'poster_path', 'production_companies', 'production_countries', \n",
    "                        'release_date', 'spoken_languages', 'status', 'tagline', 'title', 'Keywords', 'cast', 'crew', \n",
    "                        'release_day', 'release_month', 'release_weekday', 'release_quarter'], axis=1)"
   ]
  },
  {
   "cell_type": "markdown",
   "metadata": {},
   "source": [
    "#### Write processed dataset to file"
   ]
  },
  {
   "cell_type": "code",
   "execution_count": 14,
   "metadata": {
    "collapsed": false
   },
   "outputs": [],
   "source": [
    "processed_train, processed_test = dataset.loc[0:2999, :], dataset.loc[3000:, :]\n",
    "processed_test.drop(['revenue'], axis=1)\n",
    "\n",
    "processed_train.to_csv(dataset_folder + 'processed_train.csv')\n",
    "processed_test.to_csv(dataset_folder + 'processed_test.csv')"
   ]
  }
 ],
 "metadata": {
  "kernelspec": {
   "display_name": "Python 3",
   "language": "python",
   "name": "python3"
  },
  "language_info": {
   "codemirror_mode": {
    "name": "ipython",
    "version": 3
   },
   "file_extension": ".py",
   "mimetype": "text/x-python",
   "name": "python",
   "nbconvert_exporter": "python",
   "pygments_lexer": "ipython3",
   "version": "3.5.6"
  }
 },
 "nbformat": 4,
 "nbformat_minor": 0
}
