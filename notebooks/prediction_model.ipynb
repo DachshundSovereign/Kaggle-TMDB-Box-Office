{
 "cells": [
  {
   "cell_type": "markdown",
   "metadata": {},
   "source": [
    "## Prediction Model\n",
    "#### Import package"
   ]
  },
  {
   "cell_type": "code",
   "execution_count": 1,
   "metadata": {
    "collapsed": false
   },
   "outputs": [],
   "source": [
    "import datetime\n",
    "import numpy as np\n",
    "import os\n",
    "import pandas as pd\n",
    "\n",
    "from sklearn.ensemble import RandomForestRegressor\n",
    "\n",
    "from hyperopt import fmin, tpe, hp\n",
    "from sklearn.metrics import mean_squared_error, mean_squared_log_error\n",
    "from sklearn.model_selection import KFold"
   ]
  },
  {
   "cell_type": "markdown",
   "metadata": {},
   "source": [
    "#### Read dataset"
   ]
  },
  {
   "cell_type": "code",
   "execution_count": 2,
   "metadata": {
    "collapsed": true
   },
   "outputs": [],
   "source": [
    "dataset_folder = os.getcwd() + '/../dataset/'\n",
    "train = pd.read_csv('../dataset/2019-02-25_18-47_processed_train.csv', index_col=0)\n",
    "test = pd.read_csv('../dataset/2019-02-25_18-47_processed_test.csv', index_col=0)"
   ]
  },
  {
   "cell_type": "code",
   "execution_count": 3,
   "metadata": {
    "collapsed": false
   },
   "outputs": [],
   "source": [
    "X = train.drop(['revenue'], axis=1).values\n",
    "y = np.log(train.revenue.values + 1)\n",
    "X_test = test.drop(['revenue'], axis=1).values"
   ]
  },
  {
   "cell_type": "markdown",
   "metadata": {},
   "source": [
    "#### Set parameters"
   ]
  },
  {
   "cell_type": "code",
   "execution_count": 4,
   "metadata": {
    "collapsed": false
   },
   "outputs": [],
   "source": [
    "params = {'n_jobs': 4,\n",
    "          'n_estimators': 500,\n",
    "          'criterion': hp.choice('criterion', ['mse']), \n",
    "          'max_depth': hp.uniform('max_depth', 5, 15),\n",
    "          'min_samples_split': hp.uniform('min_samples_split', 0, 0.5),\n",
    "          'min_samples_leaf': hp.uniform('min_samples_leaf', 0, 0.5)}"
   ]
  },
  {
   "cell_type": "markdown",
   "metadata": {},
   "source": [
    "#### Define optimization function"
   ]
  },
  {
   "cell_type": "code",
   "execution_count": 5,
   "metadata": {
    "collapsed": false
   },
   "outputs": [],
   "source": [
    "def KfoldCV(args): \n",
    "    \n",
    "    rmlse_score = list()\n",
    "    kf = KFold(n_splits=4)\n",
    "    \n",
    "    for train_index, test_index in kf.split(X):\n",
    "        X_train, X_test = X[train_index], X[test_index]\n",
    "        y_train, y_test = y[train_index], y[test_index]\n",
    "        \n",
    "        model = RandomForestRegressor(**args)\n",
    "        model.fit(X_train, y_train)\n",
    "        \n",
    "        pred = model.predict(X_test)\n",
    "        pred[pred < 0] = 0\n",
    "        \n",
    "        rmlse_score.append(np.sqrt(mean_squared_error(pred, y_test)))\n",
    "    \n",
    "    return np.mean(rmlse_score)"
   ]
  },
  {
   "cell_type": "markdown",
   "metadata": {},
   "source": [
    "#### Parameters of best prediction model"
   ]
  },
  {
   "cell_type": "code",
   "execution_count": 6,
   "metadata": {
    "collapsed": false
   },
   "outputs": [
    {
     "name": "stdout",
     "output_type": "stream",
     "text": [
      "100%|██████████| 100/100 [12:52<00:00,  6.67s/it, best loss: 1.9809493359185326]\n",
      "Best estimate parameters:  {'criterion': 0, 'min_samples_leaf': 0.0014014519693034888, 'max_depth': 12.758616222654084, 'min_samples_split': 0.0095203830105519}\n"
     ]
    }
   ],
   "source": [
    "best = fmin(KfoldCV, params, algo=tpe.suggest, max_evals=100)\n",
    "print(\"Best estimate parameters: \", best)"
   ]
  },
  {
   "cell_type": "markdown",
   "metadata": {},
   "source": [
    "#### Define model based on the parameters found"
   ]
  },
  {
   "cell_type": "code",
   "execution_count": 7,
   "metadata": {
    "collapsed": false
   },
   "outputs": [],
   "source": [
    "model = RandomForestRegressor(n_estimators=500,\n",
    "                              max_depth=9, \n",
    "                              min_samples_leaf=0.002,\n",
    "                              min_samples_split=0.027)"
   ]
  },
  {
   "cell_type": "markdown",
   "metadata": {},
   "source": [
    "#### Fit the model to all training dataset and make prediction"
   ]
  },
  {
   "cell_type": "code",
   "execution_count": 8,
   "metadata": {
    "collapsed": false
   },
   "outputs": [],
   "source": [
    "model.fit(X, y)\n",
    "submission = (np.e ** model.predict(X_test) - 1)"
   ]
  },
  {
   "cell_type": "markdown",
   "metadata": {
    "collapsed": false
   },
   "source": [
    "#### Output submission file"
   ]
  },
  {
   "cell_type": "code",
   "execution_count": 9,
   "metadata": {
    "collapsed": false
   },
   "outputs": [],
   "source": [
    "time = datetime.datetime.now()\n",
    "time = '{:4d}-{:02d}-{:02d}_{:02d}-{:02d}'.format(time.year, time.month, time.day, time.hour, time.minute)\n",
    "\n",
    "submission = pd.DataFrame({'id': np.arange(3001, 7399), 'revenue': submission})\n",
    "submission.to_csv(dataset_folder + time + '_submission.csv', index=None)"
   ]
  }
 ],
 "metadata": {
  "kernelspec": {
   "display_name": "Python 3",
   "language": "python",
   "name": "python3"
  },
  "language_info": {
   "codemirror_mode": {
    "name": "ipython",
    "version": 3
   },
   "file_extension": ".py",
   "mimetype": "text/x-python",
   "name": "python",
   "nbconvert_exporter": "python",
   "pygments_lexer": "ipython3",
   "version": "3.5.6"
  }
 },
 "nbformat": 4,
 "nbformat_minor": 0
}
